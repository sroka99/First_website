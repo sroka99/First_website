{
 "cells": [
  {
   "cell_type": "code",
   "execution_count": 7,
   "metadata": {},
   "outputs": [],
   "source": [
    "import numpy as np\n",
    "import matplotlib.pyplot as plt\n",
    "from random import random\n"
   ]
  },
  {
   "cell_type": "code",
   "execution_count": 24,
   "metadata": {},
   "outputs": [],
   "source": [
    "def fun(x:float )-> float:\n",
    "    return x**2 \n",
    "import random"
   ]
  },
  {
   "cell_type": "code",
   "execution_count": 43,
   "metadata": {},
   "outputs": [],
   "source": [
    "N = 100\n",
    "domain_fun = []\n",
    "image_fun = []\n",
    "for i in np.linspace(-1,1,10**2):\n",
    "    domain_fun.append(i)\n",
    "    image_fun.append(fun(i))\n",
    "for n in np.linspace(1,N,N):\n",
    "    random.seed(20)\n",
    "    fig, ax = plt.subplots()\n",
    "    ax.axis('off')\n",
    "    ax.plot(domain_fun,image_fun,color = \"black\")\n",
    "    ax.plot([-1,1],[0,0],color = \"black\")\n",
    "    for j in np.linspace(1,int(n+1),int(n+1)):\n",
    "        ran_value_x = 2*random.random() - 1\n",
    "        ran_value_y = random.random()\n",
    "        if ran_value_y > fun(ran_value_x):\n",
    "            ax.scatter(x=ran_value_x,y=ran_value_y,c = \"red\")\n",
    "        else:\n",
    "            ax.scatter(x=ran_value_x,y=ran_value_y,c = \"blue\")\n",
    "    plt.savefig(f\"graphic/{int(n)}.png\")\n",
    "    plt.close()"
   ]
  },
  {
   "cell_type": "code",
   "execution_count": null,
   "metadata": {},
   "outputs": [],
   "source": [
    "plt.plot()"
   ]
  },
  {
   "cell_type": "code",
   "execution_count": null,
   "metadata": {},
   "outputs": [],
   "source": [
    "# import imageio\n",
    "# images = []\n",
    "# for filename in filenames:\n",
    "#     images.append(imageio.imread(filename))\n",
    "# imageio.mimsave('/path/to/movie.gif', images)"
   ]
  }
 ],
 "metadata": {
  "kernelspec": {
   "display_name": "Python 3",
   "language": "python",
   "name": "python3"
  },
  "language_info": {
   "codemirror_mode": {
    "name": "ipython",
    "version": 3
   },
   "file_extension": ".py",
   "mimetype": "text/x-python",
   "name": "python",
   "nbconvert_exporter": "python",
   "pygments_lexer": "ipython3",
   "version": "3.11.4"
  },
  "orig_nbformat": 4
 },
 "nbformat": 4,
 "nbformat_minor": 2
}
